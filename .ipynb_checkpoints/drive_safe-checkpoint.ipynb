{
 "cells": [
  {
   "cell_type": "markdown",
   "metadata": {},
   "source": [
    "Step 1: Import Libraries"
   ]
  },
  {
   "cell_type": "code",
   "execution_count": 1,
   "metadata": {},
   "outputs": [],
   "source": [
    "import pandas as pd\n",
    "import numpy as np\n",
    "from sklearn.model_selection import train_test_split\n",
    "from sklearn.preprocessing import StandardScaler\n",
    "from sklearn.neighbors import KNeighborsClassifier\n",
    "from sklearn.metrics import accuracy_score"
   ]
  },
  {
   "cell_type": "markdown",
   "metadata": {},
   "source": [
    "Step 2: Load Data"
   ]
  },
  {
   "cell_type": "code",
   "execution_count": 4,
   "metadata": {},
   "outputs": [],
   "source": [
    "data = pd.read_csv('UAH_data.csv')"
   ]
  },
  {
   "cell_type": "code",
   "execution_count": 5,
   "metadata": {},
   "outputs": [
    {
     "name": "stdout",
     "output_type": "stream",
     "text": [
      "   Hour of route start  Minute of route start  Second of route start  \\\n",
      "0                   17                     57                     12   \n",
      "1                   13                     56                     12   \n",
      "2                   13                     45                     45   \n",
      "3                   13                     23                     48   \n",
      "4                   12                     52                     33   \n",
      "\n",
      "   Average speed during trip (km/h)  \\\n",
      "0                                96   \n",
      "1                                94   \n",
      "2                               112   \n",
      "3                                97   \n",
      "4                               120   \n",
      "\n",
      "   Maximum achieved speed during route (km/h)  Lanex score  \\\n",
      "0                                         116          6.3   \n",
      "1                                         107          2.5   \n",
      "2                                         132          5.9   \n",
      "3                                         113          4.3   \n",
      "4                                         148          8.5   \n",
      "\n",
      "   Driving time (in minutes)  Hour of route end  Minute of route end  \\\n",
      "0                         10                 18                    7   \n",
      "1                          8                 14                    4   \n",
      "2                          8                 13                   54   \n",
      "3                         15                 13                   39   \n",
      "4                         12                 13                    4   \n",
      "\n",
      "   Second of route end  ... Score brakings (base 100)  \\\n",
      "0                   43  ...                     100.0   \n",
      "1                   38  ...                       4.9   \n",
      "2                   41  ...                      28.7   \n",
      "3                   38  ...                      38.1   \n",
      "4                   59  ...                      70.0   \n",
      "\n",
      "   Score turnings (base 100)  Score lane-weaving (base 100)  \\\n",
      "0                       86.8                          100.0   \n",
      "1                       65.9                          100.0   \n",
      "2                       56.8                          100.0   \n",
      "3                       69.0                           26.3   \n",
      "4                       81.1                          100.0   \n",
      "\n",
      "   Score lane-drifting (base 100)  Score overspeeding (base 100)  \\\n",
      "0                            63.3                           73.2   \n",
      "1                            27.8                           77.2   \n",
      "2                            59.4                            0.0   \n",
      "3                            43.0                           97.3   \n",
      "4                            85.3                           61.0   \n",
      "\n",
      "   Score car-following (base 100)  Ratio normal (base 1)  \\\n",
      "0                            98.5                  0.644   \n",
      "1                           100.0                  0.329   \n",
      "2                            95.3                  0.050   \n",
      "3                            97.3                  0.324   \n",
      "4                            91.6                  0.509   \n",
      "\n",
      "   Ratio drowsy (base 1)  Ratio aggressive (base 1)  Drive behaviour  \n",
      "0                  0.147                      0.209           normal  \n",
      "1                  0.434                      0.237           drowsy  \n",
      "2                  0.245                      0.705       aggressive  \n",
      "3                  0.557                      0.119           drowsy  \n",
      "4                  0.089                      0.403       aggressive  \n",
      "\n",
      "[5 rows x 55 columns]\n"
     ]
    }
   ],
   "source": [
    "print(data.head())"
   ]
  },
  {
   "cell_type": "code",
   "execution_count": 6,
   "metadata": {},
   "outputs": [
    {
     "name": "stdout",
     "output_type": "stream",
     "text": [
      "Index(['Hour of route start', 'Minute of route start', 'Second of route start',\n",
      "       'Average speed during trip (km/h)',\n",
      "       'Maximum achieved speed during route (km/h)', 'Lanex score',\n",
      "       'Driving time (in minutes)', 'Hour of route end', 'Minute of route end',\n",
      "       'Second of route end', 'Trip distance (km)', 'ScoreLongDist',\n",
      "       'ScoreTranDist', 'ScoreSpeedDist', 'ScoreGlobal', 'Alerts Long',\n",
      "       'Alerts Late', 'Alerts Lanex', 'Number of vehicle stops during route',\n",
      "       'Speed variability', 'Acceleration noise', 'Kinetic energy',\n",
      "       'Driving time (in seconds)', 'Number of curves in the route',\n",
      "       'Power exherted', 'Acceleration events', 'Braking events',\n",
      "       'Turning events', 'Longitudinal-distraction Global Score',\n",
      "       'Transversal-distraction Global Score', 'Mean Long.-dist. score',\n",
      "       'STD Long.-dist. score', 'Average Trans.-dist. score',\n",
      "       'STD Trans.-dist. score', 'Lacc', 'Macc', 'Hacc', 'Lbra', 'Mbra',\n",
      "       'Hbra', 'Ltur', 'Mtur', 'Htur', 'Score total (base 100)',\n",
      "       'Score accelerations (base 100)', 'Score brakings (base 100)',\n",
      "       'Score turnings (base 100)', 'Score lane-weaving (base 100)',\n",
      "       'Score lane-drifting (base 100)', 'Score overspeeding (base 100)',\n",
      "       'Score car-following (base 100)', 'Ratio normal (base 1)',\n",
      "       'Ratio drowsy (base 1)', 'Ratio aggressive (base 1)',\n",
      "       'Drive behaviour'],\n",
      "      dtype='object')\n"
     ]
    }
   ],
   "source": [
    "print(data.columns)"
   ]
  },
  {
   "cell_type": "markdown",
   "metadata": {},
   "source": [
    "Step 3: Select Features and Target"
   ]
  },
  {
   "cell_type": "code",
   "execution_count": null,
   "metadata": {},
   "outputs": [],
   "source": [
    "X = df[[\"Score accelerations (base 100)\", \"Score brakings (base 100)\", \n",
    "        \"Score turnings (base 100)\", \"Score lane-weaving (base 100)\",\n",
    "        \"Score lane-drifting (base 100)\", \"Score overspeeding (base 100)\",\n",
    "        \"Score car-following (base 100)\"]]\n",
    "y = df[\"Drive behaviour\"]"
   ]
  },
  {
   "cell_type": "markdown",
   "metadata": {},
   "source": [
    "Step 4: Split the data into Training and Testing data"
   ]
  },
  {
   "cell_type": "code",
   "execution_count": null,
   "metadata": {},
   "outputs": [],
   "source": [
    "X_train, X_test, y_train, y_test = train_test_split(X, y, test_size=0.2, random_state=42)\n"
   ]
  },
  {
   "cell_type": "markdown",
   "metadata": {},
   "source": [
    "Step 5: Train the Model"
   ]
  },
  {
   "cell_type": "code",
   "execution_count": null,
   "metadata": {},
   "outputs": [],
   "source": [
    "model = KNeighborsClassifier(n_neighbors=3)\n",
    "model.fit(X_train_scaled, y_train)\n"
   ]
  },
  {
   "cell_type": "markdown",
   "metadata": {},
   "source": [
    "Step 6: Predict"
   ]
  }
 ],
 "metadata": {
  "kernelspec": {
   "display_name": "Python 3 (ipykernel)",
   "language": "python",
   "name": "python3"
  },
  "language_info": {
   "codemirror_mode": {
    "name": "ipython",
    "version": 3
   },
   "file_extension": ".py",
   "mimetype": "text/x-python",
   "name": "python",
   "nbconvert_exporter": "python",
   "pygments_lexer": "ipython3",
   "version": "3.10.14"
  },
  "vscode": {
   "interpreter": {
    "hash": "859e31d59f7064d740ea107dd22b60a28bb1e9d176becefe247e4bf74b842432"
   }
  }
 },
 "nbformat": 4,
 "nbformat_minor": 4
}
